{
 "cells": [
  {
   "cell_type": "code",
   "execution_count": 1,
   "metadata": {},
   "outputs": [],
   "source": [
    "# Data Wrangling\n",
    "import pandas as pd\n",
    "import numpy as np\n",
    "\n",
    "# Multi-criteria decision analysis (MCDA)\n",
    "from skcriteria.madm import simple, similarity\n",
    "from skcriteria import DecisionMatrix, mkdm\n",
    "from skcriteria.preprocessing import invert_objectives, scalers\n",
    "from skcriteria.pipeline import mkpipe"
   ]
  },
  {
   "cell_type": "markdown",
   "metadata": {},
   "source": [
    "Just creating some toy data here for an example. Imagine each ID is an individual model. Then A-E are your metrics. These could be anything we wanted but for the sake of simplicity I have just created some random positive integers and some random negative floats. But these really could take any value. "
   ]
  },
  {
   "cell_type": "code",
   "execution_count": 2,
   "metadata": {},
   "outputs": [
    {
     "data": {
      "text/html": [
       "<div>\n",
       "<style scoped>\n",
       "    .dataframe tbody tr th:only-of-type {\n",
       "        vertical-align: middle;\n",
       "    }\n",
       "\n",
       "    .dataframe tbody tr th {\n",
       "        vertical-align: top;\n",
       "    }\n",
       "\n",
       "    .dataframe thead th {\n",
       "        text-align: right;\n",
       "    }\n",
       "</style>\n",
       "<table border=\"1\" class=\"dataframe\">\n",
       "  <thead>\n",
       "    <tr style=\"text-align: right;\">\n",
       "      <th></th>\n",
       "      <th>A</th>\n",
       "      <th>B</th>\n",
       "      <th>C</th>\n",
       "      <th>D</th>\n",
       "      <th>E</th>\n",
       "    </tr>\n",
       "  </thead>\n",
       "  <tbody>\n",
       "    <tr>\n",
       "      <th>ID1</th>\n",
       "      <td>51</td>\n",
       "      <td>30</td>\n",
       "      <td>6</td>\n",
       "      <td>31</td>\n",
       "      <td>-0.324685</td>\n",
       "    </tr>\n",
       "    <tr>\n",
       "      <th>ID2</th>\n",
       "      <td>45</td>\n",
       "      <td>61</td>\n",
       "      <td>90</td>\n",
       "      <td>51</td>\n",
       "      <td>-0.394994</td>\n",
       "    </tr>\n",
       "    <tr>\n",
       "      <th>ID3</th>\n",
       "      <td>66</td>\n",
       "      <td>30</td>\n",
       "      <td>62</td>\n",
       "      <td>66</td>\n",
       "      <td>-0.054201</td>\n",
       "    </tr>\n",
       "    <tr>\n",
       "      <th>ID4</th>\n",
       "      <td>77</td>\n",
       "      <td>83</td>\n",
       "      <td>44</td>\n",
       "      <td>59</td>\n",
       "      <td>-0.226453</td>\n",
       "    </tr>\n",
       "    <tr>\n",
       "      <th>ID5</th>\n",
       "      <td>7</td>\n",
       "      <td>98</td>\n",
       "      <td>65</td>\n",
       "      <td>51</td>\n",
       "      <td>-0.493122</td>\n",
       "    </tr>\n",
       "  </tbody>\n",
       "</table>\n",
       "</div>"
      ],
      "text/plain": [
       "      A   B   C   D         E\n",
       "ID1  51  30   6  31 -0.324685\n",
       "ID2  45  61  90  51 -0.394994\n",
       "ID3  66  30  62  66 -0.054201\n",
       "ID4  77  83  44  59 -0.226453\n",
       "ID5   7  98  65  51 -0.493122"
      ]
     },
     "execution_count": 2,
     "metadata": {},
     "output_type": "execute_result"
    }
   ],
   "source": [
    "df = pd.DataFrame(np.random.randint(1,100,size=(5, 4)), columns=list('ABCD'), index=['ID1', 'ID2', 'ID3', 'ID4', 'ID5'])\n",
    "E  = np.random.uniform(-.00004, -.5, 5)\n",
    "df['E'] = E.tolist()\n",
    "df"
   ]
  },
  {
   "cell_type": "markdown",
   "metadata": {},
   "source": [
    "The next thing you have to do is create a **Decision Matrix** object. Here you have to specify what your objective is in relation to minimization or maximization relative to the A-E inputs. So, for example, lets say the first measure 'A' is logloss, we want to minimize that, and 'B' is the predicted throughput of applicants and that we wish to maximize, we simply specify this in a list as follows ['min', 'max', etc.]. Finally we also would include the associated weights for A-E. So following the above example if 'A' -- our logloss -- is not as important then we would weight this as .5, and then predicted growth is of greater importance we would then weight this as 2, again we put these in the form of a list as follows [.5, 2, etc.]. You will notice the in the **Decision Matrix** object the direction (min or max in the form of arrows) and the associated weighting regime attached to each of the A-E inputs. "
   ]
  },
  {
   "cell_type": "code",
   "execution_count": 3,
   "metadata": {},
   "outputs": [
    {
     "data": {
      "text/html": [
       "<div class=\"decisionmatrix\">\n",
       "<div>\n",
       "<style scoped=\"\">\n",
       "    .dataframe tbody tr th:only-of-type {\n",
       "        vertical-align: middle;\n",
       "    }\n",
       "\n",
       "    .dataframe tbody tr th {\n",
       "        vertical-align: top;\n",
       "    }\n",
       "\n",
       "    .dataframe thead th {\n",
       "        text-align: right;\n",
       "    }\n",
       "</style>\n",
       "<table border=\"1\" class=\"dataframe\">\n",
       "  <thead>\n",
       "    <tr style=\"text-align: right;\">\n",
       "      <th/>\n",
       "      <th>A[▼ 0.5]</th>\n",
       "      <th>B[▲ 2.0]</th>\n",
       "      <th>C[▼ 1.0]</th>\n",
       "      <th>D[▲ 1.0]</th>\n",
       "      <th>E[▼ 0.5]</th>\n",
       "    </tr>\n",
       "  </thead>\n",
       "  <tbody>\n",
       "    <tr>\n",
       "      <th>ID1</th>\n",
       "      <td>51</td>\n",
       "      <td>30</td>\n",
       "      <td>6</td>\n",
       "      <td>31</td>\n",
       "      <td>-0.324685</td>\n",
       "    </tr>\n",
       "    <tr>\n",
       "      <th>ID2</th>\n",
       "      <td>45</td>\n",
       "      <td>61</td>\n",
       "      <td>90</td>\n",
       "      <td>51</td>\n",
       "      <td>-0.394994</td>\n",
       "    </tr>\n",
       "    <tr>\n",
       "      <th>ID3</th>\n",
       "      <td>66</td>\n",
       "      <td>30</td>\n",
       "      <td>62</td>\n",
       "      <td>66</td>\n",
       "      <td>-0.054201</td>\n",
       "    </tr>\n",
       "    <tr>\n",
       "      <th>ID4</th>\n",
       "      <td>77</td>\n",
       "      <td>83</td>\n",
       "      <td>44</td>\n",
       "      <td>59</td>\n",
       "      <td>-0.226453</td>\n",
       "    </tr>\n",
       "    <tr>\n",
       "      <th>ID5</th>\n",
       "      <td>7</td>\n",
       "      <td>98</td>\n",
       "      <td>65</td>\n",
       "      <td>51</td>\n",
       "      <td>-0.493122</td>\n",
       "    </tr>\n",
       "  </tbody>\n",
       "</table>\n",
       "</div><em class=\"decisionmatrix-dim\">5 Alternatives x 5 Criteria</em>\n",
       "</div>"
      ],
      "text/plain": [
       "    A[▼ 0.5] B[▲ 2.0] C[▼ 1.0] D[▲ 1.0]  E[▼ 0.5]\n",
       "ID1       51       30        6       31 -0.324685\n",
       "ID2       45       61       90       51 -0.394994\n",
       "ID3       66       30       62       66 -0.054201\n",
       "ID4       77       83       44       59 -0.226453\n",
       "ID5        7       98       65       51 -0.493122\n",
       "[5 Alternatives x 5 Criteria]"
      ]
     },
     "execution_count": 3,
     "metadata": {},
     "output_type": "execute_result"
    }
   ],
   "source": [
    "criteria_data = DecisionMatrix(df, \n",
    "                         [min, max, min, max, min], # Min or Max, minimize, e.g., logloss; maximize, profit KPI \n",
    "                         [.5,2,1,1,.5]) # Weights\n",
    "criteria_data"
   ]
  },
  {
   "cell_type": "code",
   "execution_count": 4,
   "metadata": {},
   "outputs": [
    {
     "data": {
      "text/plain": [
       "<AxesSubplot:xlabel='Criteria', ylabel='Alternatives'>"
      ]
     },
     "execution_count": 4,
     "metadata": {},
     "output_type": "execute_result"
    },
    {
     "data": {
      "image/png": "[encoded data removed]",
      "text/plain": [
       "<Figure size 432x288 with 2 Axes>"
      ]
     },
     "metadata": {
      "needs_background": "light"
     },
     "output_type": "display_data"
    }
   ],
   "source": [
    "criteria_data.plot()"
   ]
  },
  {
   "cell_type": "markdown",
   "metadata": {},
   "source": [
    "Quick to just give you some insight we then pass the ```MinimizeToMaximize()``` function to the **DecisionMatrix** object b/c otherwise we will simply not be able to optimize. So you will see after this step we now have changed the direction of the arrows to up as we are going to try and maximize these values. There are other approaches that could be adopted here, but for the sake of simplicty this should help you follow the logic. "
   ]
  },
  {
   "cell_type": "code",
   "execution_count": 5,
   "metadata": {},
   "outputs": [
    {
     "data": {
      "text/html": [
       "<div class=\"decisionmatrix\">\n",
       "<div>\n",
       "<style scoped=\"\">\n",
       "    .dataframe tbody tr th:only-of-type {\n",
       "        vertical-align: middle;\n",
       "    }\n",
       "\n",
       "    .dataframe tbody tr th {\n",
       "        vertical-align: top;\n",
       "    }\n",
       "\n",
       "    .dataframe thead th {\n",
       "        text-align: right;\n",
       "    }\n",
       "</style>\n",
       "<table border=\"1\" class=\"dataframe\">\n",
       "  <thead>\n",
       "    <tr style=\"text-align: right;\">\n",
       "      <th/>\n",
       "      <th>A[▲ 0.5]</th>\n",
       "      <th>B[▲ 2.0]</th>\n",
       "      <th>C[▲ 1.0]</th>\n",
       "      <th>D[▲ 1.0]</th>\n",
       "      <th>E[▲ 0.5]</th>\n",
       "    </tr>\n",
       "  </thead>\n",
       "  <tbody>\n",
       "    <tr>\n",
       "      <th>ID1</th>\n",
       "      <td>0.019608</td>\n",
       "      <td>30</td>\n",
       "      <td>0.166667</td>\n",
       "      <td>31</td>\n",
       "      <td>-3.079910</td>\n",
       "    </tr>\n",
       "    <tr>\n",
       "      <th>ID2</th>\n",
       "      <td>0.022222</td>\n",
       "      <td>61</td>\n",
       "      <td>0.011111</td>\n",
       "      <td>51</td>\n",
       "      <td>-2.531684</td>\n",
       "    </tr>\n",
       "    <tr>\n",
       "      <th>ID3</th>\n",
       "      <td>0.015152</td>\n",
       "      <td>30</td>\n",
       "      <td>0.016129</td>\n",
       "      <td>66</td>\n",
       "      <td>-18.449843</td>\n",
       "    </tr>\n",
       "    <tr>\n",
       "      <th>ID4</th>\n",
       "      <td>0.012987</td>\n",
       "      <td>83</td>\n",
       "      <td>0.022727</td>\n",
       "      <td>59</td>\n",
       "      <td>-4.415927</td>\n",
       "    </tr>\n",
       "    <tr>\n",
       "      <th>ID5</th>\n",
       "      <td>0.142857</td>\n",
       "      <td>98</td>\n",
       "      <td>0.015385</td>\n",
       "      <td>51</td>\n",
       "      <td>-2.027895</td>\n",
       "    </tr>\n",
       "  </tbody>\n",
       "</table>\n",
       "</div><em class=\"decisionmatrix-dim\">5 Alternatives x 5 Criteria</em>\n",
       "</div>"
      ],
      "text/plain": [
       "     A[▲ 0.5] B[▲ 2.0]  C[▲ 1.0] D[▲ 1.0]   E[▲ 0.5]\n",
       "ID1  0.019608       30  0.166667       31  -3.079910\n",
       "ID2  0.022222       61  0.011111       51  -2.531684\n",
       "ID3  0.015152       30  0.016129       66 -18.449843\n",
       "ID4  0.012987       83  0.022727       59  -4.415927\n",
       "ID5  0.142857       98  0.015385       51  -2.027895\n",
       "[5 Alternatives x 5 Criteria]"
      ]
     },
     "execution_count": 5,
     "metadata": {},
     "output_type": "execute_result"
    }
   ],
   "source": [
    "inverter = invert_objectives.MinimizeToMaximize()\n",
    "dmt = inverter.transform(criteria_data)\n",
    "dmt"
   ]
  },
  {
   "cell_type": "markdown",
   "metadata": {},
   "source": [
    "Likewise we need to transform our data and so we will scale here. Like the above, there are other approaches beyond ```SumScaler()``` that can be adopted but for simplicity I use this. You will see that the values for all inputs have now been scaled."
   ]
  },
  {
   "cell_type": "code",
   "execution_count": 6,
   "metadata": {},
   "outputs": [
    {
     "data": {
      "text/html": [
       "<div class=\"decisionmatrix\">\n",
       "<div>\n",
       "<style scoped=\"\">\n",
       "    .dataframe tbody tr th:only-of-type {\n",
       "        vertical-align: middle;\n",
       "    }\n",
       "\n",
       "    .dataframe tbody tr th {\n",
       "        vertical-align: top;\n",
       "    }\n",
       "\n",
       "    .dataframe thead th {\n",
       "        text-align: right;\n",
       "    }\n",
       "</style>\n",
       "<table border=\"1\" class=\"dataframe\">\n",
       "  <thead>\n",
       "    <tr style=\"text-align: right;\">\n",
       "      <th/>\n",
       "      <th>A[▲ 0.1]</th>\n",
       "      <th>B[▲ 0.4]</th>\n",
       "      <th>C[▲ 0.2]</th>\n",
       "      <th>D[▲ 0.2]</th>\n",
       "      <th>E[▲ 0.1]</th>\n",
       "    </tr>\n",
       "  </thead>\n",
       "  <tbody>\n",
       "    <tr>\n",
       "      <th>ID1</th>\n",
       "      <td>0.092131</td>\n",
       "      <td>0.099338</td>\n",
       "      <td>0.718333</td>\n",
       "      <td>0.120155</td>\n",
       "      <td>0.100963</td>\n",
       "    </tr>\n",
       "    <tr>\n",
       "      <th>ID2</th>\n",
       "      <td>0.104415</td>\n",
       "      <td>0.201987</td>\n",
       "      <td>0.047889</td>\n",
       "      <td>0.197674</td>\n",
       "      <td>0.082992</td>\n",
       "    </tr>\n",
       "    <tr>\n",
       "      <th>ID3</th>\n",
       "      <td>0.071192</td>\n",
       "      <td>0.099338</td>\n",
       "      <td>0.069516</td>\n",
       "      <td>0.255814</td>\n",
       "      <td>0.604809</td>\n",
       "    </tr>\n",
       "    <tr>\n",
       "      <th>ID4</th>\n",
       "      <td>0.061022</td>\n",
       "      <td>0.274834</td>\n",
       "      <td>0.097954</td>\n",
       "      <td>0.228682</td>\n",
       "      <td>0.144760</td>\n",
       "    </tr>\n",
       "    <tr>\n",
       "      <th>ID5</th>\n",
       "      <td>0.671240</td>\n",
       "      <td>0.324503</td>\n",
       "      <td>0.066308</td>\n",
       "      <td>0.197674</td>\n",
       "      <td>0.066477</td>\n",
       "    </tr>\n",
       "  </tbody>\n",
       "</table>\n",
       "</div><em class=\"decisionmatrix-dim\">5 Alternatives x 5 Criteria</em>\n",
       "</div>"
      ],
      "text/plain": [
       "     A[▲ 0.1]  B[▲ 0.4]  C[▲ 0.2]  D[▲ 0.2]  E[▲ 0.1]\n",
       "ID1  0.092131  0.099338  0.718333  0.120155  0.100963\n",
       "ID2  0.104415  0.201987  0.047889  0.197674  0.082992\n",
       "ID3  0.071192  0.099338  0.069516  0.255814  0.604809\n",
       "ID4  0.061022  0.274834  0.097954  0.228682  0.144760\n",
       "ID5  0.671240  0.324503  0.066308  0.197674  0.066477\n",
       "[5 Alternatives x 5 Criteria]"
      ]
     },
     "execution_count": 6,
     "metadata": {},
     "output_type": "execute_result"
    }
   ],
   "source": [
    "scaler = scalers.SumScaler(target=\"both\")\n",
    "dmt = scaler.transform(dmt)\n",
    "dmt"
   ]
  },
  {
   "cell_type": "markdown",
   "metadata": {},
   "source": [
    "The above two steps I did to show you what happens within what is better achieved by simply creating a pipe. Much like ```scikit-learn```, ```scikit-criteria``` has a useful wrapper that enables you to pass the above two steps into a pipe along with the algo/solver. Here I just use ```TOPSIS``` which leverages euclidean distance. This is again just an example. There are some other very elegant solutions for these kinds of multi-criteria decision optimisation problems in the ```scikit-criteria``` package that I really like. There is one potential limitation I should note here, and I have not fully explored the source code, but it appears that the ```DecisionMatrix()``` object cannot have more than 20 inputs. You will get an error in such instances. I plan to raise and issue with the ```scikit-criteria``` developers around this and possibly dig into the source code to see if I might be able to simply remedy the issue. "
   ]
  },
  {
   "cell_type": "code",
   "execution_count": 7,
   "metadata": {},
   "outputs": [
    {
     "data": {
      "text/plain": [
       "SKCPipeline(steps=[('minimizetomaximize', MinimizeToMaximize()), ('vectorscaler', VectorScaler(target='matrix')), ('sumscaler', SumScaler(target='weights')), ('topsis', TOPSIS())])"
      ]
     },
     "execution_count": 7,
     "metadata": {},
     "output_type": "execute_result"
    }
   ],
   "source": [
    "pipe_topsis = mkpipe(\n",
    "    invert_objectives.MinimizeToMaximize(),\n",
    "    scalers.VectorScaler(target=\"matrix\"), \n",
    "    scalers.SumScaler(target=\"weights\"),\n",
    "    similarity.TOPSIS(),\n",
    ")\n",
    "pipe_topsis"
   ]
  },
  {
   "cell_type": "markdown",
   "metadata": {},
   "source": [
    "Above you will see you now have a nice pipeline object that you can simply pass to the decision matrix."
   ]
  },
  {
   "cell_type": "code",
   "execution_count": 8,
   "metadata": {},
   "outputs": [
    {
     "data": {
      "text/html": [
       "<div class='skcresult-rank skcresult'>\n",
       "<style  type=\"text/css\" >\n",
       "</style><table id=\"T_a738e_\" ><thead>    <tr>        <th class=\"blank level0\" ></th>        <th class=\"col_heading level0 col0\" >ID1</th>        <th class=\"col_heading level0 col1\" >ID2</th>        <th class=\"col_heading level0 col2\" >ID3</th>        <th class=\"col_heading level0 col3\" >ID4</th>        <th class=\"col_heading level0 col4\" >ID5</th>    </tr></thead><tbody>\n",
       "                <tr>\n",
       "                        <th id=\"T_a738e_level0_row0\" class=\"row_heading level0 row0\" >Rank</th>\n",
       "                        <td id=\"T_a738e_row0_col0\" class=\"data row0 col0\" >2</td>\n",
       "                        <td id=\"T_a738e_row0_col1\" class=\"data row0 col1\" >4</td>\n",
       "                        <td id=\"T_a738e_row0_col2\" class=\"data row0 col2\" >5</td>\n",
       "                        <td id=\"T_a738e_row0_col3\" class=\"data row0 col3\" >3</td>\n",
       "                        <td id=\"T_a738e_row0_col4\" class=\"data row0 col4\" >1</td>\n",
       "            </tr>\n",
       "    </tbody></table><em class='skcresult-method'>Method: TOPSIS</em>\n",
       "</div>"
      ],
      "text/plain": [
       "      ID1  ID2  ID3  ID4  ID5\n",
       "Rank    2    4    5    3    1\n",
       "[Method: TOPSIS]"
      ]
     },
     "execution_count": 8,
     "metadata": {},
     "output_type": "execute_result"
    }
   ],
   "source": [
    "dec = pipe_topsis.evaluate(criteria_data)\n",
    "dec"
   ]
  },
  {
   "cell_type": "markdown",
   "metadata": {},
   "source": [
    "Above you see the results of the optimisation and the associated method that was leveraged. "
   ]
  },
  {
   "cell_type": "code",
   "execution_count": 9,
   "metadata": {},
   "outputs": [
    {
     "data": {
      "text/plain": [
       "skcriteria.core.data.RankResult"
      ]
     },
     "execution_count": 9,
     "metadata": {},
     "output_type": "execute_result"
    }
   ],
   "source": [
    "type(dec)"
   ]
  },
  {
   "cell_type": "markdown",
   "metadata": {},
   "source": [
    "Above you can see that this is a special type of object that the scikit-criteria team created. The issue here is that when you have literally hundreds of models or whatever you are trying to optimize get this strange wide essentially useless object that does not play well with ```Pandas``` or ```Numpy``` so below is the most elegant solution I managed to come up with that could return a useable ```pd.DataFrame()``` with the associated rank attached."
   ]
  },
  {
   "cell_type": "code",
   "execution_count": 10,
   "metadata": {},
   "outputs": [
    {
     "data": {
      "text/html": [
       "<div>\n",
       "<style scoped>\n",
       "    .dataframe tbody tr th:only-of-type {\n",
       "        vertical-align: middle;\n",
       "    }\n",
       "\n",
       "    .dataframe tbody tr th {\n",
       "        vertical-align: top;\n",
       "    }\n",
       "\n",
       "    .dataframe thead th {\n",
       "        text-align: right;\n",
       "    }\n",
       "</style>\n",
       "<table border=\"1\" class=\"dataframe\">\n",
       "  <thead>\n",
       "    <tr style=\"text-align: right;\">\n",
       "      <th></th>\n",
       "      <th>A</th>\n",
       "      <th>B</th>\n",
       "      <th>C</th>\n",
       "      <th>D</th>\n",
       "      <th>E</th>\n",
       "      <th>rank_topsis</th>\n",
       "    </tr>\n",
       "  </thead>\n",
       "  <tbody>\n",
       "    <tr>\n",
       "      <th>ID5</th>\n",
       "      <td>7</td>\n",
       "      <td>98</td>\n",
       "      <td>65</td>\n",
       "      <td>51</td>\n",
       "      <td>-0.493122</td>\n",
       "      <td>1</td>\n",
       "    </tr>\n",
       "    <tr>\n",
       "      <th>ID1</th>\n",
       "      <td>51</td>\n",
       "      <td>30</td>\n",
       "      <td>6</td>\n",
       "      <td>31</td>\n",
       "      <td>-0.324685</td>\n",
       "      <td>2</td>\n",
       "    </tr>\n",
       "    <tr>\n",
       "      <th>ID4</th>\n",
       "      <td>77</td>\n",
       "      <td>83</td>\n",
       "      <td>44</td>\n",
       "      <td>59</td>\n",
       "      <td>-0.226453</td>\n",
       "      <td>3</td>\n",
       "    </tr>\n",
       "    <tr>\n",
       "      <th>ID2</th>\n",
       "      <td>45</td>\n",
       "      <td>61</td>\n",
       "      <td>90</td>\n",
       "      <td>51</td>\n",
       "      <td>-0.394994</td>\n",
       "      <td>4</td>\n",
       "    </tr>\n",
       "    <tr>\n",
       "      <th>ID3</th>\n",
       "      <td>66</td>\n",
       "      <td>30</td>\n",
       "      <td>62</td>\n",
       "      <td>66</td>\n",
       "      <td>-0.054201</td>\n",
       "      <td>5</td>\n",
       "    </tr>\n",
       "  </tbody>\n",
       "</table>\n",
       "</div>"
      ],
      "text/plain": [
       "      A   B   C   D         E  rank_topsis\n",
       "ID5   7  98  65  51 -0.493122            1\n",
       "ID1  51  30   6  31 -0.324685            2\n",
       "ID4  77  83  44  59 -0.226453            3\n",
       "ID2  45  61  90  51 -0.394994            4\n",
       "ID3  66  30  62  66 -0.054201            5"
      ]
     },
     "execution_count": 10,
     "metadata": {},
     "output_type": "execute_result"
    }
   ],
   "source": [
    "df.loc[:,'rank_topsis'] = dec.rank_\n",
    "df.sort_values(by='rank_topsis', ascending=True)"
   ]
  }
 ],
 "metadata": {
  "interpreter": {
   "hash": "6a89cb4a9fca096b1950c3dc43894f95369644f3eed54a061666ed89696bb855"
  },
  "kernelspec": {
   "display_name": "Python 3.7.1 ('py_tips')",
   "language": "python",
   "name": "python3"
  },
  "language_info": {
   "codemirror_mode": {
    "name": "ipython",
    "version": 3
   },
   "file_extension": ".py",
   "mimetype": "text/x-python",
   "name": "python",
   "nbconvert_exporter": "python",
   "pygments_lexer": "ipython3",
   "version": "3.7.1"
  },
  "orig_nbformat": 4
 },
 "nbformat": 4,
 "nbformat_minor": 2
}
